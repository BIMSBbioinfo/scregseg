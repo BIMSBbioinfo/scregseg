{
 "cells": [
  {
   "cell_type": "code",
   "execution_count": 1,
   "metadata": {},
   "outputs": [],
   "source": [
    "import os\n",
    "import pandas as pd\n",
    "from anndata import read_h5ad\n",
    "import scanpy as sc\n",
    "import scregseg\n",
    "import matplotlib.pyplot as plt"
   ]
  },
  {
   "cell_type": "markdown",
   "metadata": {},
   "source": [
    "# Processing and preparing raw data"
   ]
  },
  {
   "cell_type": "markdown",
   "metadata": {},
   "source": [
    "This tutorial shows how to create and manipulate count matrices.\n",
    "Specifically, we shall illustrate:\n",
    "\n",
    "    * How to create a count matrix using `scregseg fragments_to_counts` and `scregseg bam_to_counts`\n",
    "    * How to filter and subset the count matrix using `scregseg filter` and `scregseg subset`\n",
    "    * How to collapse cells within groups `scregseg collapse`\n",
    "    * How to combine dataset using `scregseg merge`\n",
    "    * How to create pseudobulk bam and bigwig tracks"
   ]
  },
  {
   "cell_type": "markdown",
   "metadata": {},
   "source": [
    "### Obtaining the dataset"
   ]
  },
  {
   "cell_type": "markdown",
   "metadata": {},
   "source": [
    "We will obtain the tutorial dataset from 10x Genomics.\n",
    "Caution: The bam file is rather large. One might want to skip downloading it."
   ]
  },
  {
   "cell_type": "code",
   "execution_count": 2,
   "metadata": {
    "collapsed": true
   },
   "outputs": [
    {
     "name": "stdout",
     "output_type": "stream",
     "text": [
      "--2021-02-20 00:51:13--  https://cf.10xgenomics.com/samples/cell-atac/1.2.0/atac_v1_pbmc_5k/atac_v1_pbmc_5k_fragments.tsv.gz\n",
      "Resolving cf.10xgenomics.com (cf.10xgenomics.com)... 104.18.0.173, 104.18.1.173, 2606:4700::6812:1ad, ...\n",
      "Connecting to cf.10xgenomics.com (cf.10xgenomics.com)|104.18.0.173|:443... connected.\n",
      "HTTP request sent, awaiting response... 200 OK\n",
      "Length: 976353254 (931M) [text/tab-separated-values]\n",
      "Saving to: ‘atac_v1_pbmc_5k_fragments.tsv.gz’\n",
      "\n",
      "100%[======================================>] 976.353.254 77,1MB/s   in 12s    \n",
      "\n",
      "2021-02-20 00:51:25 (79,5 MB/s) - ‘atac_v1_pbmc_5k_fragments.tsv.gz’ saved [976353254/976353254]\n",
      "\n",
      "--2021-02-20 00:51:29--  https://cg.10xgenomics.com/samples/cell-atac/1.2.0/atac_v1_pbmc_5k/atac_v1_pbmc_5k_possorted_bam.bam\n",
      "Resolving cg.10xgenomics.com (cg.10xgenomics.com)... 104.18.1.173, 104.18.0.173, 2606:4700::6812:1ad, ...\n",
      "Connecting to cg.10xgenomics.com (cg.10xgenomics.com)|104.18.1.173|:443... connected.\n",
      "HTTP request sent, awaiting response... 200 OK\n",
      "Length: 22121778961 (21G) [binary/octet-stream]\n",
      "Saving to: ‘atac_v1_pbmc_5k_possorted_bam.bam’\n",
      "\n",
      "100%[===================================>] 22.121.778.961 9,98MB/s   in 35m 51s\n",
      "\n",
      "2021-02-20 01:27:21 (9,81 MB/s) - ‘atac_v1_pbmc_5k_possorted_bam.bam’ saved [22121778961/22121778961]\n",
      "\n",
      "--2021-02-20 01:27:21--  https://cg.10xgenomics.com/samples/cell-atac/1.2.0/atac_v1_pbmc_5k/atac_v1_pbmc_5k_possorted_bam.bam.bai\n",
      "Resolving cg.10xgenomics.com (cg.10xgenomics.com)... 104.18.0.173, 104.18.1.173, 2606:4700::6812:ad, ...\n",
      "Connecting to cg.10xgenomics.com (cg.10xgenomics.com)|104.18.0.173|:443... connected.\n",
      "HTTP request sent, awaiting response... 200 OK\n",
      "Length: 4108760 (3,9M) [binary/octet-stream]\n",
      "Saving to: ‘atac_v1_pbmc_5k_possorted_bam.bam.bai’\n",
      "\n",
      "100%[======================================>] 4.108.760   2,56MB/s   in 1,5s   \n",
      "\n",
      "2021-02-20 01:27:24 (2,56 MB/s) - ‘atac_v1_pbmc_5k_possorted_bam.bam.bai’ saved [4108760/4108760]\n",
      "\n",
      "--2021-02-20 01:32:39--  https://cf.10xgenomics.com/samples/cell-atac/1.2.0/atac_v1_pbmc_5k/atac_v1_pbmc_5k_singlecell.csv\n",
      "Resolving cf.10xgenomics.com (cf.10xgenomics.com)... 104.18.1.173, 104.18.0.173, 2606:4700::6812:ad, ...\n",
      "Connecting to cf.10xgenomics.com (cf.10xgenomics.com)|104.18.1.173|:443... connected.\n",
      "HTTP request sent, awaiting response... 200 OK\n",
      "Length: 32182575 (31M) [text/csv]\n",
      "Saving to: ‘atac_v1_pbmc_5k_singlecell.csv’\n",
      "\n",
      "100%[======================================>] 32.182.575   102MB/s   in 0,3s   \n",
      "\n",
      "2021-02-20 01:32:40 (102 MB/s) - ‘atac_v1_pbmc_5k_singlecell.csv’ saved [32182575/32182575]\n",
      "\n",
      "--2021-02-20 01:32:40--  https://cf.10xgenomics.com/samples/cell-atac/1.2.0/atac_v1_pbmc_5k/atac_v1_pbmc_5k_analysis.tar.gz\n",
      "Resolving cf.10xgenomics.com (cf.10xgenomics.com)... 104.18.1.173, 104.18.0.173, 2606:4700::6812:ad, ...\n",
      "Connecting to cf.10xgenomics.com (cf.10xgenomics.com)|104.18.1.173|:443... connected.\n",
      "HTTP request sent, awaiting response... 200 OK\n",
      "Length: 182286803 (174M) [application/x-tar]\n",
      "Saving to: ‘atac_v1_pbmc_5k_analysis.tar.gz’\n",
      "\n",
      "100%[======================================>] 182.286.803 17,5MB/s   in 11s    \n",
      "\n",
      "2021-02-20 01:32:52 (16,2 MB/s) - ‘atac_v1_pbmc_5k_analysis.tar.gz’ saved [182286803/182286803]\n",
      "\n",
      "analysis/\n",
      "analysis/lsa/\n",
      "analysis/lsa/15_components/\n",
      "analysis/lsa/15_components/projection.csv\n",
      "analysis/lsa/15_components/components.csv\n",
      "analysis/lsa/15_components/variance.csv\n",
      "analysis/lsa/15_components/dispersion.csv\n",
      "analysis/lsa/15_components/features_selected.csv\n",
      "analysis/enrichment/\n",
      "analysis/enrichment/kmeans_3_clusters/\n",
      "analysis/enrichment/kmeans_3_clusters/differential_expression.csv\n",
      "analysis/enrichment/graphclust/\n",
      "analysis/enrichment/graphclust/differential_expression.csv\n",
      "analysis/enrichment/kmeans_4_clusters/\n",
      "analysis/enrichment/kmeans_4_clusters/differential_expression.csv\n",
      "analysis/enrichment/kmeans_2_clusters/\n",
      "analysis/enrichment/kmeans_2_clusters/differential_expression.csv\n",
      "analysis/enrichment/kmeans_5_clusters/\n",
      "analysis/enrichment/kmeans_5_clusters/differential_expression.csv\n",
      "analysis/enrichment/kmeans_9_clusters/\n",
      "analysis/enrichment/kmeans_9_clusters/differential_expression.csv\n",
      "analysis/enrichment/kmeans_6_clusters/\n",
      "analysis/enrichment/kmeans_6_clusters/differential_expression.csv\n",
      "analysis/enrichment/kmeans_10_clusters/\n",
      "analysis/enrichment/kmeans_10_clusters/differential_expression.csv\n",
      "analysis/enrichment/kmeans_7_clusters/\n",
      "analysis/enrichment/kmeans_7_clusters/differential_expression.csv\n",
      "analysis/enrichment/kmeans_8_clusters/\n",
      "analysis/enrichment/kmeans_8_clusters/differential_expression.csv\n",
      "analysis/clustering/\n",
      "analysis/clustering/kmeans_8_clusters/\n",
      "analysis/clustering/kmeans_8_clusters/clusters.csv\n",
      "analysis/clustering/kmeans_7_clusters/\n",
      "analysis/clustering/kmeans_7_clusters/clusters.csv\n",
      "analysis/clustering/kmeans_6_clusters/\n",
      "analysis/clustering/kmeans_6_clusters/clusters.csv\n",
      "analysis/clustering/kmeans_9_clusters/\n",
      "analysis/clustering/kmeans_9_clusters/clusters.csv\n",
      "analysis/clustering/kmeans_2_clusters/\n",
      "analysis/clustering/kmeans_2_clusters/clusters.csv\n",
      "analysis/clustering/kmeans_5_clusters/\n",
      "analysis/clustering/kmeans_5_clusters/clusters.csv\n",
      "analysis/clustering/graphclust/\n",
      "analysis/clustering/graphclust/clusters.csv\n",
      "analysis/clustering/kmeans_3_clusters/\n",
      "analysis/clustering/kmeans_3_clusters/clusters.csv\n",
      "analysis/clustering/kmeans_10_clusters/\n",
      "analysis/clustering/kmeans_10_clusters/clusters.csv\n",
      "analysis/clustering/kmeans_4_clusters/\n",
      "analysis/clustering/kmeans_4_clusters/clusters.csv\n",
      "analysis/tsne/\n",
      "analysis/tsne/2_components/\n",
      "analysis/tsne/2_components/projection.csv\n"
     ]
    }
   ],
   "source": [
    "# first we download example scATAC-seq data\n",
    "!wget -O atac_v1_pbmc_5k_fragments.tsv.gz https://cf.10xgenomics.com/samples/cell-atac/1.2.0/atac_v1_pbmc_5k/atac_v1_pbmc_5k_fragments.tsv.gz\n",
    "!wget -O atac_v1_pbmc_5k_possorted_bam.bam https://cg.10xgenomics.com/samples/cell-atac/1.2.0/atac_v1_pbmc_5k/atac_v1_pbmc_5k_possorted_bam.bam\n",
    "!wget -O atac_v1_pbmc_5k_possorted_bam.bam.bai https://cg.10xgenomics.com/samples/cell-atac/1.2.0/atac_v1_pbmc_5k/atac_v1_pbmc_5k_possorted_bam.bam.bai\n",
    "\n",
    "# sometimes bedtools fails when processing the original *.tsv.gz files, but unpacking and packing seems to help\n",
    "!gunzip -f atac_v1_pbmc_5k_fragments.tsv.gz\n",
    "!gzip -f atac_v1_pbmc_5k_fragments.tsv\n",
    "\n",
    "# prefiltered cells from CellRanger\n",
    "!wget -O atac_v1_pbmc_5k_singlecell.csv https://cf.10xgenomics.com/samples/cell-atac/1.2.0/atac_v1_pbmc_5k/atac_v1_pbmc_5k_singlecell.csv\n",
    "\n",
    "!wget -O atac_v1_pbmc_5k_analysis.tar.gz https://cf.10xgenomics.com/samples/cell-atac/1.2.0/atac_v1_pbmc_5k/atac_v1_pbmc_5k_analysis.tar.gz\n",
    "!tar xvf atac_v1_pbmc_5k_analysis.tar.gz"
   ]
  },
  {
   "cell_type": "markdown",
   "metadata": {},
   "source": [
    "### Preparing a single-cell count matrix"
   ]
  },
  {
   "cell_type": "markdown",
   "metadata": {},
   "source": [
    "First, be build genome-wide tiling windows. This will be used as the basis to construct the countmatrix.\n",
    "The chromosome sizes are extracted from the fragments file. Alternatively, a bam-file could be used\n",
    "for this step as well."
   ]
  },
  {
   "cell_type": "code",
   "execution_count": 3,
   "metadata": {},
   "outputs": [],
   "source": [
    "!scregseg make_tile \\\n",
    "          --regions tile1kb.bed \\\n",
    "          --binsize 1000 \\\n",
    "          --fragmentfile atac_v1_pbmc_5k_fragments.tsv.gz"
   ]
  },
  {
   "cell_type": "markdown",
   "metadata": {},
   "source": [
    "Next, we construct a countmatrix. \n",
    "This step will require a fragments or bam-file (used with `scregseg bam_to_counts`)\n",
    "and a bed-file specifying the genomic intervals.\n",
    "The result of this step will be a regions by barcodes matrix.\n",
    "The `--with-fraglen` determines that the fragment length information per interval is collected as well. This might be useful\n",
    "for exploring informative states in the HMM-model later on."
   ]
  },
  {
   "cell_type": "code",
   "execution_count": 4,
   "metadata": {},
   "outputs": [
    {
     "name": "stdout",
     "output_type": "stream",
     "text": [
      "... storing 'chrom' as categorical\n",
      "... storing 'sample' as categorical\n"
     ]
    }
   ],
   "source": [
    "!scregseg fragments_to_counts \\\n",
    "          --fragmentfile atac_v1_pbmc_5k_fragments.tsv.gz \\\n",
    "          --regions tile1kb.bed \\\n",
    "          --with-fraglen \\\n",
    "          --counts countmatrix.h5ad"
   ]
  },
  {
   "cell_type": "markdown",
   "metadata": {},
   "source": [
    "In the example, we'll save the countmatrix as AnnData dataset, which facilitates easy interoperability with scanpy.\n",
    "Alternatively, one could save the countmatrix also as `countmatrix.mtx` to save the data in matrix market format.\n",
    "The latter option makes it easier to continue with the dataset in a different environment, e.g. when using R."
   ]
  },
  {
   "cell_type": "markdown",
   "metadata": {},
   "source": [
    "Next, we subset/filter the raw countmatrix to remove poor quality barcodes.\n",
    "The 10x Genomics data already contains information from the CellRanger pipeline about the cell quality.\n",
    "So we can continue with the pre-determined high-quality cells."
   ]
  },
  {
   "cell_type": "markdown",
   "metadata": {},
   "source": [
    "To do so, we extract the desired cells (indicated by the is_cell_barcode column) from the 10x Genomics metadata:"
   ]
  },
  {
   "cell_type": "code",
   "execution_count": 5,
   "metadata": {},
   "outputs": [
    {
     "name": "stdout",
     "output_type": "stream",
     "text": [
      "4654 high-quality cells are left for downstream processing\n"
     ]
    }
   ],
   "source": [
    "df = pd.read_csv('atac_v1_pbmc_5k_singlecell.csv')\n",
    "df = df[df.is__cell_barcode==1]\n",
    "df[['barcode']].to_csv('qcontrolled_cells.csv', index=False)\n",
    "print(f'{df.shape[0]} high-quality cells are left for downstream processing')"
   ]
  },
  {
   "cell_type": "markdown",
   "metadata": {},
   "source": [
    "Then we subset the original countmatrix and retain only the quality controlled cells:"
   ]
  },
  {
   "cell_type": "code",
   "execution_count": 6,
   "metadata": {},
   "outputs": [],
   "source": [
    "!scregseg subset \\\n",
    "          --incounts countmatrix.h5ad \\\n",
    "          --outcounts filtered_countmatrix.h5ad \\\n",
    "          --subset qcontrolled_cells.csv"
   ]
  },
  {
   "cell_type": "markdown",
   "metadata": {},
   "source": [
    "In addition or as an alternative, it is possible to filter cells and regions using `scregseg filter`."
   ]
  },
  {
   "cell_type": "markdown",
   "metadata": {},
   "source": [
    "#!scregseg filter \\\n",
    "          --incounts countmatrix.h5ad \\\n",
    "          --outcounts filtered2_countmatrix.h5ad \\\n",
    "          --mincount 1000 \\\n",
    "          --maxcount 40000 \\\n",
    "          --trimcount 1"
   ]
  },
  {
   "cell_type": "markdown",
   "metadata": {},
   "source": [
    "Now, let's check the content of the count matrix"
   ]
  },
  {
   "cell_type": "markdown",
   "metadata": {},
   "source": [
    "adata = read_h5ad('filtered2_countmatrix.h5ad')\n",
    "adata"
   ]
  },
  {
   "cell_type": "code",
   "execution_count": 7,
   "metadata": {},
   "outputs": [
    {
     "data": {
      "text/plain": [
       "AnnData object with n_obs × n_vars = 2880143 × 4654\n",
       "    obs: 'chrom', 'start', 'end'\n",
       "    var: 'sample'\n",
       "    obsm: 'frag_lens'"
      ]
     },
     "execution_count": 7,
     "metadata": {},
     "output_type": "execute_result"
    }
   ],
   "source": [
    "adata = read_h5ad('filtered_countmatrix.h5ad')\n",
    "adata"
   ]
  },
  {
   "cell_type": "markdown",
   "metadata": {},
   "source": [
    "Sometimes it might be useful to concatenate count matrices, e.g. stemming from different experiments.\n",
    "This can be achieved by using `scregseg merge`"
   ]
  },
  {
   "cell_type": "code",
   "execution_count": 8,
   "metadata": {},
   "outputs": [
    {
     "name": "stdout",
     "output_type": "stream",
     "text": [
      "Variable names are not unique. To make them unique, call `.var_names_make_unique`.\n",
      "Variable names are not unique. To make them unique, call `.var_names_make_unique`.\n"
     ]
    }
   ],
   "source": [
    "!scregseg merge \\\n",
    "          --incounts filtered_countmatrix.h5ad filtered_countmatrix.h5ad \\\n",
    "          --outcounts merged_countmatrix.h5ad"
   ]
  },
  {
   "cell_type": "markdown",
   "metadata": {},
   "source": [
    "### Preparing cell-group collapsed count matrices"
   ]
  },
  {
   "cell_type": "markdown",
   "metadata": {},
   "source": [
    "After having performed some initial analysis, including feature identification,\n",
    "dimensionality reduction and cell clustering, it might be of interest\n",
    "to investigate the accessibility profiles across cell-groups or cell-clusters.\n",
    "To this end, a count matrix can be constructed that collapses cell within groups: `scregseg collapse`"
   ]
  },
  {
   "cell_type": "markdown",
   "metadata": {},
   "source": [
    "We shall utilize the pre-determined clustering results from CellRanger as an example to illustrate how to compile a pseudo-bulk count matrix.\n",
    "In addition, we compile the pseudo-bulk count matrix with 500 bp resolution (for later use)."
   ]
  },
  {
   "cell_type": "code",
   "execution_count": 9,
   "metadata": {},
   "outputs": [],
   "source": [
    "!scregseg make_tile \\\n",
    "          --regions tile500b.bed \\\n",
    "          --binsize 500 \\\n",
    "          --fragmentfile atac_v1_pbmc_5k_fragments.tsv.gz"
   ]
  },
  {
   "cell_type": "code",
   "execution_count": 10,
   "metadata": {},
   "outputs": [
    {
     "name": "stdout",
     "output_type": "stream",
     "text": [
      "... storing 'chrom' as categorical\n",
      "... storing 'sample' as categorical\n"
     ]
    }
   ],
   "source": [
    "!scregseg fragments_to_counts \\\n",
    "          --fragmentfile atac_v1_pbmc_5k_fragments.tsv.gz \\\n",
    "          --regions tile500b.bed \\\n",
    "          --counts countmatrix_500.h5ad"
   ]
  },
  {
   "cell_type": "code",
   "execution_count": 11,
   "metadata": {},
   "outputs": [],
   "source": [
    "!scregseg subset \\\n",
    "          --incounts countmatrix_500.h5ad \\\n",
    "          --outcounts filtered_countmatrix_500.h5ad \\\n",
    "          --subset qcontrolled_cells.csv"
   ]
  },
  {
   "cell_type": "code",
   "execution_count": 1,
   "metadata": {},
   "outputs": [
    {
     "name": "stdout",
     "output_type": "stream",
     "text": [
      "Using TensorFlow backend.\r\n"
     ]
    }
   ],
   "source": [
    "!scregseg filter \\\n",
    "          --incounts filtered_countmatrix_500.h5ad \\\n",
    "          --outcounts filtered_countmatrix_500.h5ad \\\n",
    "          --trimcount 1"
   ]
  },
  {
   "cell_type": "code",
   "execution_count": 2,
   "metadata": {},
   "outputs": [
    {
     "name": "stdout",
     "output_type": "stream",
     "text": [
      "Using TensorFlow backend.\n",
      "/home/wkopp/anaconda3/envs/scregseg2/lib/python3.7/site-packages/anndata/_core/anndata.py:119: ImplicitModificationWarning: Transforming to str index.\n",
      "  warnings.warn(\"Transforming to str index.\", ImplicitModificationWarning)\n"
     ]
    }
   ],
   "source": [
    "!scregseg collapse \\\n",
    "          --incounts filtered_countmatrix_500.h5ad \\\n",
    "          --outcounts collapsed_countmatrix_500.h5ad \\\n",
    "          --cellgroup analysis/clustering/graphclust/clusters.csv"
   ]
  },
  {
   "cell_type": "code",
   "execution_count": 21,
   "metadata": {},
   "outputs": [],
   "source": [
    "psadata = read_h5ad('collapsed_countmatrix_500.h5ad')"
   ]
  },
  {
   "cell_type": "code",
   "execution_count": 22,
   "metadata": {},
   "outputs": [
    {
     "data": {
      "text/plain": [
       "AnnData object with n_obs × n_vars = 5760275 × 11\n",
       "    obs: 'chrom', 'start', 'end'"
      ]
     },
     "execution_count": 22,
     "metadata": {},
     "output_type": "execute_result"
    }
   ],
   "source": [
    "psadata"
   ]
  },
  {
   "cell_type": "markdown",
   "metadata": {},
   "source": [
    "The collapsed countmatrix contains 11 columns, each corresponding to one of the clusters\n",
    "defined in the clusters.csv file.\n"
   ]
  },
  {
   "cell_type": "markdown",
   "metadata": {},
   "source": [
    "Finally, if we have access to raw bam files, we could split the bamfiles into pseudobulk\n",
    "tracks determined by `--cellgroup`. This will also generate associated bigwig files\n",
    "if deeptools is installed/available."
   ]
  },
  {
   "cell_type": "code",
   "execution_count": 18,
   "metadata": {
    "scrolled": true
   },
   "outputs": [
    {
     "name": "stdout",
     "output_type": "stream",
     "text": [
      "normalization: CPM\n",
      "normalization: CPM\n",
      "normalization: CPM\n",
      "normalization: CPM\n",
      "normalization: CPM\n",
      "normalization: CPM\n",
      "normalization: CPM\n",
      "bamFilesList: ['pseudobulktracks/6.bam']\n",
      "binLength: 50\n",
      "numberOfSamples: None\n",
      "blackListFileName: None\n",
      "skipZeroOverZero: False\n",
      "bed_and_bin: False\n",
      "genomeChunkSize: None\n",
      "defaultFragmentLength: read length\n",
      "numberOfProcessors: 1\n",
      "verbose: False\n",
      "region: None\n",
      "bedFile: None\n",
      "minMappingQuality: None\n",
      "ignoreDuplicates: False\n",
      "chrsToSkip: []\n",
      "stepSize: 50\n",
      "center_read: False\n",
      "samFlag_include: None\n",
      "samFlag_exclude: None\n",
      "minFragmentLength: 0\n",
      "maxFragmentLength: 0\n",
      "zerosToNans: False\n",
      "smoothLength: None\n",
      "save_data: False\n",
      "out_file_for_raw_data: None\n",
      "maxPairedFragmentLength: 1000\n",
      "bamFilesList: ['pseudobulktracks/7.bam']\n",
      "binLength: 50\n",
      "numberOfSamples: None\n",
      "blackListFileName: None\n",
      "skipZeroOverZero: False\n",
      "bed_and_bin: False\n",
      "genomeChunkSize: None\n",
      "defaultFragmentLength: read length\n",
      "numberOfProcessors: 1\n",
      "verbose: False\n",
      "region: None\n",
      "bedFile: None\n",
      "minMappingQuality: None\n",
      "ignoreDuplicates: False\n",
      "chrsToSkip: []\n",
      "stepSize: 50\n",
      "center_read: False\n",
      "samFlag_include: None\n",
      "samFlag_exclude: None\n",
      "minFragmentLength: 0\n",
      "maxFragmentLength: 0\n",
      "zerosToNans: False\n",
      "smoothLength: None\n",
      "save_data: False\n",
      "out_file_for_raw_data: None\n",
      "maxPairedFragmentLength: 1000\n",
      "bamFilesList: ['pseudobulktracks/8.bam']\n",
      "binLength: 50\n",
      "numberOfSamples: None\n",
      "blackListFileName: None\n",
      "skipZeroOverZero: False\n",
      "bed_and_bin: False\n",
      "genomeChunkSize: None\n",
      "defaultFragmentLength: read length\n",
      "numberOfProcessors: 1\n",
      "verbose: False\n",
      "region: None\n",
      "bedFile: None\n",
      "minMappingQuality: None\n",
      "ignoreDuplicates: False\n",
      "chrsToSkip: []\n",
      "stepSize: 50\n",
      "center_read: False\n",
      "samFlag_include: None\n",
      "samFlag_exclude: None\n",
      "minFragmentLength: 0\n",
      "maxFragmentLength: 0\n",
      "zerosToNans: False\n",
      "smoothLength: None\n",
      "save_data: False\n",
      "out_file_for_raw_data: None\n",
      "maxPairedFragmentLength: 1000\n",
      "bamFilesList: ['pseudobulktracks/5.bam']\n",
      "binLength: 50\n",
      "numberOfSamples: None\n",
      "blackListFileName: None\n",
      "skipZeroOverZero: False\n",
      "bed_and_bin: False\n",
      "genomeChunkSize: None\n",
      "defaultFragmentLength: read length\n",
      "numberOfProcessors: 1\n",
      "verbose: False\n",
      "region: None\n",
      "bedFile: None\n",
      "minMappingQuality: None\n",
      "ignoreDuplicates: False\n",
      "chrsToSkip: []\n",
      "stepSize: 50\n",
      "center_read: False\n",
      "samFlag_include: None\n",
      "samFlag_exclude: None\n",
      "minFragmentLength: 0\n",
      "maxFragmentLength: 0\n",
      "zerosToNans: False\n",
      "smoothLength: None\n",
      "save_data: False\n",
      "out_file_for_raw_data: None\n",
      "maxPairedFragmentLength: 1000\n",
      "bamFilesList: ['pseudobulktracks/4.bam']\n",
      "binLength: 50\n",
      "numberOfSamples: None\n",
      "blackListFileName: None\n",
      "skipZeroOverZero: False\n",
      "bed_and_bin: False\n",
      "genomeChunkSize: None\n",
      "defaultFragmentLength: read length\n",
      "numberOfProcessors: 1\n",
      "verbose: False\n",
      "region: None\n",
      "bedFile: None\n",
      "minMappingQuality: None\n",
      "ignoreDuplicates: False\n",
      "chrsToSkip: []\n",
      "stepSize: 50\n",
      "center_read: False\n",
      "samFlag_include: None\n",
      "samFlag_exclude: None\n",
      "minFragmentLength: 0\n",
      "maxFragmentLength: 0\n",
      "zerosToNans: False\n",
      "smoothLength: None\n",
      "save_data: False\n",
      "out_file_for_raw_data: None\n",
      "maxPairedFragmentLength: 1000\n",
      "bamFilesList: ['pseudobulktracks/10.bam']\n",
      "binLength: 50\n",
      "numberOfSamples: None\n",
      "blackListFileName: None\n",
      "skipZeroOverZero: False\n",
      "bed_and_bin: False\n",
      "genomeChunkSize: None\n",
      "defaultFragmentLength: read length\n",
      "numberOfProcessors: 1\n",
      "verbose: False\n",
      "region: None\n",
      "bedFile: None\n",
      "minMappingQuality: None\n",
      "ignoreDuplicates: False\n",
      "chrsToSkip: []\n",
      "stepSize: 50\n",
      "center_read: False\n",
      "samFlag_include: None\n",
      "samFlag_exclude: None\n",
      "minFragmentLength: 0\n",
      "maxFragmentLength: 0\n",
      "zerosToNans: False\n",
      "bamFilesList: ['pseudobulktracks/9.bam']\n",
      "smoothLength: None\n",
      "save_data: False\n",
      "binLength: 50\n",
      "out_file_for_raw_data: None\n",
      "numberOfSamples: None\n",
      "maxPairedFragmentLength: 1000\n",
      "blackListFileName: None\n",
      "skipZeroOverZero: False\n",
      "bed_and_bin: False\n",
      "genomeChunkSize: None\n",
      "defaultFragmentLength: read length\n",
      "numberOfProcessors: 1\n",
      "verbose: False\n",
      "region: None\n",
      "bedFile: None\n",
      "minMappingQuality: None\n",
      "ignoreDuplicates: False\n",
      "chrsToSkip: []\n",
      "stepSize: 50\n",
      "center_read: False\n",
      "samFlag_include: None\n",
      "samFlag_exclude: None\n",
      "minFragmentLength: 0\n",
      "maxFragmentLength: 0\n",
      "zerosToNans: False\n",
      "smoothLength: None\n",
      "save_data: False\n",
      "out_file_for_raw_data: None\n",
      "maxPairedFragmentLength: 1000\n",
      "normalization: CPM\n",
      "bamFilesList: ['pseudobulktracks/3.bam']\n",
      "binLength: 50\n",
      "numberOfSamples: None\n",
      "blackListFileName: None\n",
      "skipZeroOverZero: False\n",
      "bed_and_bin: False\n",
      "genomeChunkSize: None\n",
      "defaultFragmentLength: read length\n",
      "numberOfProcessors: 1\n",
      "verbose: False\n",
      "region: None\n",
      "bedFile: None\n",
      "minMappingQuality: None\n",
      "ignoreDuplicates: False\n",
      "chrsToSkip: []\n",
      "stepSize: 50\n",
      "center_read: False\n",
      "samFlag_include: None\n",
      "samFlag_exclude: None\n",
      "minFragmentLength: 0\n",
      "maxFragmentLength: 0\n",
      "zerosToNans: False\n",
      "smoothLength: None\n",
      "save_data: False\n",
      "out_file_for_raw_data: None\n",
      "maxPairedFragmentLength: 1000\n",
      "normalization: CPM\n",
      "bamFilesList: ['pseudobulktracks/2.bam']\n",
      "binLength: 50\n",
      "numberOfSamples: None\n",
      "blackListFileName: None\n",
      "skipZeroOverZero: False\n",
      "bed_and_bin: False\n",
      "genomeChunkSize: None\n",
      "defaultFragmentLength: read length\n",
      "numberOfProcessors: 1\n",
      "verbose: False\n",
      "region: None\n",
      "bedFile: None\n",
      "minMappingQuality: None\n",
      "ignoreDuplicates: False\n",
      "chrsToSkip: []\n",
      "stepSize: 50\n",
      "center_read: False\n",
      "samFlag_include: None\n",
      "samFlag_exclude: None\n",
      "minFragmentLength: 0\n",
      "maxFragmentLength: 0\n",
      "zerosToNans: False\n",
      "smoothLength: None\n",
      "save_data: False\n",
      "out_file_for_raw_data: None\n",
      "maxPairedFragmentLength: 1000\n",
      "normalization: CPM\n",
      "bamFilesList: ['pseudobulktracks/1.bam']\n",
      "binLength: 50\n",
      "numberOfSamples: None\n",
      "blackListFileName: None\n",
      "skipZeroOverZero: False\n",
      "bed_and_bin: False\n",
      "genomeChunkSize: None\n",
      "defaultFragmentLength: read length\n",
      "numberOfProcessors: 1\n",
      "verbose: False\n",
      "region: None\n",
      "bedFile: None\n",
      "minMappingQuality: None\n",
      "ignoreDuplicates: False\n",
      "chrsToSkip: []\n",
      "stepSize: 50\n",
      "center_read: False\n",
      "samFlag_include: None\n",
      "samFlag_exclude: None\n",
      "minFragmentLength: 0\n",
      "maxFragmentLength: 0\n",
      "zerosToNans: False\n",
      "smoothLength: None\n",
      "save_data: False\n",
      "out_file_for_raw_data: None\n",
      "maxPairedFragmentLength: 1000\n",
      "normalization: CPM\n",
      "bamFilesList: ['pseudobulktracks/11.bam']\n",
      "binLength: 50\n",
      "numberOfSamples: None\n",
      "blackListFileName: None\n",
      "skipZeroOverZero: False\n",
      "bed_and_bin: False\n",
      "genomeChunkSize: None\n",
      "defaultFragmentLength: read length\n",
      "numberOfProcessors: 1\n",
      "verbose: False\n",
      "region: None\n",
      "bedFile: None\n",
      "minMappingQuality: None\n",
      "ignoreDuplicates: False\n",
      "chrsToSkip: []\n",
      "stepSize: 50\n",
      "center_read: False\n",
      "samFlag_include: None\n",
      "samFlag_exclude: None\n",
      "minFragmentLength: 0\n",
      "maxFragmentLength: 0\n",
      "zerosToNans: False\n",
      "smoothLength: None\n",
      "save_data: False\n",
      "out_file_for_raw_data: None\n",
      "maxPairedFragmentLength: 1000\n"
     ]
    }
   ],
   "source": [
    "!scregseg pseudobulk_tracks \\\n",
    "          --bamfile atac_v1_pbmc_5k_possorted_bam.bam \\\n",
    "          --barcodetag CB \\\n",
    "          --outdir pseudobulktracks \\\n",
    "          --cellgroup analysis/clustering/graphclust/clusters.csv"
   ]
  },
  {
   "cell_type": "code",
   "execution_count": 19,
   "metadata": {},
   "outputs": [
    {
     "data": {
      "text/plain": [
       "['1.bam',\n",
       " '2.bam',\n",
       " '3.bam',\n",
       " '4.bam',\n",
       " '5.bam',\n",
       " '6.bam',\n",
       " '7.bam',\n",
       " '8.bam',\n",
       " '9.bam',\n",
       " '10.bam',\n",
       " '11.bam',\n",
       " '1.bam.bai',\n",
       " '2.bam.bai',\n",
       " '3.bam.bai',\n",
       " '4.bam.bai',\n",
       " '5.bam.bai',\n",
       " '6.bam.bai',\n",
       " '7.bam.bai',\n",
       " '8.bam.bai',\n",
       " '9.bam.bai',\n",
       " '10.bam.bai',\n",
       " '11.bam.bai',\n",
       " '7.bigwig',\n",
       " '8.bigwig',\n",
       " '9.bigwig',\n",
       " '10.bigwig',\n",
       " '3.bigwig',\n",
       " '4.bigwig',\n",
       " '2.bigwig',\n",
       " '6.bigwig',\n",
       " '11.bigwig',\n",
       " '1.bigwig',\n",
       " '5.bigwig']"
      ]
     },
     "execution_count": 19,
     "metadata": {},
     "output_type": "execute_result"
    }
   ],
   "source": [
    "os.listdir('pseudobulktracks')"
   ]
  }
 ],
 "metadata": {
  "kernelspec": {
   "display_name": "Python 3",
   "language": "python",
   "name": "python3"
  },
  "language_info": {
   "codemirror_mode": {
    "name": "ipython",
    "version": 3
   },
   "file_extension": ".py",
   "mimetype": "text/x-python",
   "name": "python",
   "nbconvert_exporter": "python",
   "pygments_lexer": "ipython3",
   "version": "3.7.9"
  }
 },
 "nbformat": 4,
 "nbformat_minor": 4
}
